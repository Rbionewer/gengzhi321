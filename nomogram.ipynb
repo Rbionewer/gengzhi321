{
 "cells": [
  {
   "cell_type": "code",
   "id": "initial_id",
   "metadata": {
    "collapsed": true,
    "ExecuteTime": {
     "end_time": "2024-11-10T05:11:44.314561Z",
     "start_time": "2024-11-10T05:11:41.688608Z"
    }
   },
   "source": [
    "from math import log10\n",
    "\n",
    "# read data\n",
    "import pandas as pd\n",
    "from dask.array import block\n",
    "from statsmodels.miscmodels.tmodel import np_log\n",
    "\n",
    "Xian_cohort = pd.read_csv('/Users/gengzhi/Desktop/Xian_cohort.csv')\n",
    "nonXian_cohort = pd.read_csv('/Users/gengzhi/Desktop/nonXian_cohort.csv')\n",
    "Xian_cohort = pd.concat([Xian_cohort,nonXian_cohort])"
   ],
   "outputs": [],
   "execution_count": 625
  },
  {
   "metadata": {
    "ExecuteTime": {
     "end_time": "2024-11-10T05:11:47.185402Z",
     "start_time": "2024-11-10T05:11:47.130765Z"
    }
   },
   "cell_type": "code",
   "source": [
    "from sklearn.impute import KNNImputer\n",
    "imputer = KNNImputer(n_neighbors=2)\n",
    "# only 69th column have missing value\n",
    "Xian_cohort['CRP'] = imputer.fit_transform(Xian_cohort)[:,69]"
   ],
   "id": "28bd6b90ce4acf7c",
   "outputs": [],
   "execution_count": 626
  },
  {
   "metadata": {
    "ExecuteTime": {
     "end_time": "2024-11-10T05:13:21.626021Z",
     "start_time": "2024-11-10T05:13:21.615705Z"
    }
   },
   "cell_type": "code",
   "source": [
    "Xian_cohort = Xian_cohort.drop(columns=['SSUM400'])\n",
    "# surgical_classify delete 2 and 3\n",
    "Xian_cohort = Xian_cohort[Xian_cohort['surgical_classify'] != 2]\n",
    "Xian_cohort = Xian_cohort[Xian_cohort['surgical_classify'] != 3]\n",
    "Xian_cohort = Xian_cohort.drop(columns=['surgical_classify', 'reappear'])\n",
    "Xian_cohort = Xian_cohort[Xian_cohort['sex'] != 0]\n",
    "Xian_cohort = Xian_cohort.drop(columns=['sex'])"
   ],
   "id": "820d2a402448f410",
   "outputs": [],
   "execution_count": 627
  },
  {
   "metadata": {
    "ExecuteTime": {
     "end_time": "2024-11-05T05:58:49.580955Z",
     "start_time": "2024-11-05T05:58:49.572870Z"
    }
   },
   "cell_type": "code",
   "source": "factor = ['LYMPH','HbA1c']",
   "id": "2b848ac1b2e3ee8a",
   "outputs": [],
   "execution_count": 618
  },
  {
   "metadata": {
    "ExecuteTime": {
     "end_time": "2024-11-05T05:58:49.651725Z",
     "start_time": "2024-11-05T05:58:49.610903Z"
    }
   },
   "cell_type": "code",
   "source": [
    "# do COX regression\n",
    "from lifelines import CoxPHFitter\n",
    "# do single factor regression one by one\n",
    "cph = CoxPHFitter()\n",
    "cph.fit(Xian_cohort, duration_col='survival_time', event_col='death',formula= factor)"
   ],
   "id": "80a55f00f6659342",
   "outputs": [
    {
     "data": {
      "text/plain": [
       "<lifelines.CoxPHFitter: fitted with 123 total observations, 113 right-censored observations>"
      ]
     },
     "execution_count": 619,
     "metadata": {},
     "output_type": "execute_result"
    }
   ],
   "execution_count": 619
  },
  {
   "metadata": {
    "ExecuteTime": {
     "end_time": "2024-11-05T05:58:49.692Z",
     "start_time": "2024-11-05T05:58:49.668806Z"
    }
   },
   "cell_type": "code",
   "source": "cph.print_summary()",
   "id": "b9204564a06bc190",
   "outputs": [
    {
     "data": {
      "text/plain": [
       "<lifelines.CoxPHFitter: fitted with 123 total observations, 113 right-censored observations>\n",
       "             duration col = 'survival_time'\n",
       "                event col = 'death'\n",
       "      baseline estimation = breslow\n",
       "   number of observations = 123\n",
       "number of events observed = 10\n",
       "   partial log-likelihood = -38.34\n",
       "         time fit was run = 2024-11-05 05:58:49 UTC\n",
       "\n",
       "---\n",
       "           coef exp(coef)  se(coef)  coef lower 95%  coef upper 95% exp(coef) lower 95% exp(coef) upper 95%\n",
       "covariate                                                                                                  \n",
       "LYMPH     -1.95      0.14      0.58           -3.09           -0.82                0.05                0.44\n",
       "HbA1c      0.86      2.35      0.23            0.41            1.30                1.51                3.66\n",
       "\n",
       "           cmp to     z      p  -log2(p)\n",
       "covariate                               \n",
       "LYMPH        0.00 -3.36 <0.005     10.34\n",
       "HbA1c        0.00  3.79 <0.005     12.69\n",
       "---\n",
       "Concordance = 0.87\n",
       "Partial AIC = 80.68\n",
       "log-likelihood ratio test = 18.82 on 2 df\n",
       "-log2(p) of ll-ratio test = 13.57"
      ],
      "text/html": [
       "<div>\n",
       "<style scoped>\n",
       "    .dataframe tbody tr th:only-of-type {\n",
       "        vertical-align: middle;\n",
       "    }\n",
       "\n",
       "    .dataframe tbody tr th {\n",
       "        vertical-align: top;\n",
       "    }\n",
       "\n",
       "    .dataframe thead th {\n",
       "        text-align: right;\n",
       "    }\n",
       "</style>\n",
       "<table border=\"1\" class=\"dataframe\">\n",
       "  <tbody>\n",
       "    <tr>\n",
       "      <th>model</th>\n",
       "      <td>lifelines.CoxPHFitter</td>\n",
       "    </tr>\n",
       "    <tr>\n",
       "      <th>duration col</th>\n",
       "      <td>'survival_time'</td>\n",
       "    </tr>\n",
       "    <tr>\n",
       "      <th>event col</th>\n",
       "      <td>'death'</td>\n",
       "    </tr>\n",
       "    <tr>\n",
       "      <th>baseline estimation</th>\n",
       "      <td>breslow</td>\n",
       "    </tr>\n",
       "    <tr>\n",
       "      <th>number of observations</th>\n",
       "      <td>123</td>\n",
       "    </tr>\n",
       "    <tr>\n",
       "      <th>number of events observed</th>\n",
       "      <td>10</td>\n",
       "    </tr>\n",
       "    <tr>\n",
       "      <th>partial log-likelihood</th>\n",
       "      <td>-38.34</td>\n",
       "    </tr>\n",
       "    <tr>\n",
       "      <th>time fit was run</th>\n",
       "      <td>2024-11-05 05:58:49 UTC</td>\n",
       "    </tr>\n",
       "  </tbody>\n",
       "</table>\n",
       "</div><table border=\"1\" class=\"dataframe\">\n",
       "  <thead>\n",
       "    <tr style=\"text-align: right;\">\n",
       "      <th style=\"min-width: 12px;\"></th>\n",
       "      <th style=\"min-width: 12px;\">coef</th>\n",
       "      <th style=\"min-width: 12px;\">exp(coef)</th>\n",
       "      <th style=\"min-width: 12px;\">se(coef)</th>\n",
       "      <th style=\"min-width: 12px;\">coef lower 95%</th>\n",
       "      <th style=\"min-width: 12px;\">coef upper 95%</th>\n",
       "      <th style=\"min-width: 12px;\">exp(coef) lower 95%</th>\n",
       "      <th style=\"min-width: 12px;\">exp(coef) upper 95%</th>\n",
       "      <th style=\"min-width: 12px;\">cmp to</th>\n",
       "      <th style=\"min-width: 12px;\">z</th>\n",
       "      <th style=\"min-width: 12px;\">p</th>\n",
       "      <th style=\"min-width: 12px;\">-log2(p)</th>\n",
       "    </tr>\n",
       "  </thead>\n",
       "  <tbody>\n",
       "    <tr>\n",
       "      <th>LYMPH</th>\n",
       "      <td>-1.95</td>\n",
       "      <td>0.14</td>\n",
       "      <td>0.58</td>\n",
       "      <td>-3.09</td>\n",
       "      <td>-0.82</td>\n",
       "      <td>0.05</td>\n",
       "      <td>0.44</td>\n",
       "      <td>0.00</td>\n",
       "      <td>-3.36</td>\n",
       "      <td>&lt;0.005</td>\n",
       "      <td>10.34</td>\n",
       "    </tr>\n",
       "    <tr>\n",
       "      <th>HbA1c</th>\n",
       "      <td>0.86</td>\n",
       "      <td>2.35</td>\n",
       "      <td>0.23</td>\n",
       "      <td>0.41</td>\n",
       "      <td>1.30</td>\n",
       "      <td>1.51</td>\n",
       "      <td>3.66</td>\n",
       "      <td>0.00</td>\n",
       "      <td>3.79</td>\n",
       "      <td>&lt;0.005</td>\n",
       "      <td>12.69</td>\n",
       "    </tr>\n",
       "  </tbody>\n",
       "</table><br><div>\n",
       "<style scoped>\n",
       "    .dataframe tbody tr th:only-of-type {\n",
       "        vertical-align: middle;\n",
       "    }\n",
       "\n",
       "    .dataframe tbody tr th {\n",
       "        vertical-align: top;\n",
       "    }\n",
       "\n",
       "    .dataframe thead th {\n",
       "        text-align: right;\n",
       "    }\n",
       "</style>\n",
       "<table border=\"1\" class=\"dataframe\">\n",
       "  <tbody>\n",
       "    <tr>\n",
       "      <th>Concordance</th>\n",
       "      <td>0.87</td>\n",
       "    </tr>\n",
       "    <tr>\n",
       "      <th>Partial AIC</th>\n",
       "      <td>80.68</td>\n",
       "    </tr>\n",
       "    <tr>\n",
       "      <th>log-likelihood ratio test</th>\n",
       "      <td>18.82 on 2 df</td>\n",
       "    </tr>\n",
       "    <tr>\n",
       "      <th>-log2(p) of ll-ratio test</th>\n",
       "      <td>13.57</td>\n",
       "    </tr>\n",
       "  </tbody>\n",
       "</table>\n",
       "</div>"
      ],
      "text/latex": "\\begin{tabular}{lrrrrrrrrrrr}\n & coef & exp(coef) & se(coef) & coef lower 95% & coef upper 95% & exp(coef) lower 95% & exp(coef) upper 95% & cmp to & z & p & -log2(p) \\\\\ncovariate &  &  &  &  &  &  &  &  &  &  &  \\\\\nLYMPH & -1.95 & 0.14 & 0.58 & -3.09 & -0.82 & 0.05 & 0.44 & 0.00 & -3.36 & 0.00 & 10.34 \\\\\nHbA1c & 0.86 & 2.35 & 0.23 & 0.41 & 1.30 & 1.51 & 3.66 & 0.00 & 3.79 & 0.00 & 12.69 \\\\\n\\end{tabular}\n"
     },
     "metadata": {},
     "output_type": "display_data"
    }
   ],
   "execution_count": 620
  },
  {
   "metadata": {
    "ExecuteTime": {
     "end_time": "2024-11-05T05:58:49.761925Z",
     "start_time": "2024-11-05T05:58:49.713438Z"
    }
   },
   "cell_type": "code",
   "source": "cph.plot()",
   "id": "e1bd1c3020ce82f",
   "outputs": [
    {
     "data": {
      "text/plain": [
       "<Axes: xlabel='log(HR) (95% CI)'>"
      ]
     },
     "execution_count": 621,
     "metadata": {},
     "output_type": "execute_result"
    },
    {
     "data": {
      "text/plain": [
       "<Figure size 640x480 with 1 Axes>"
      ],
      "image/png": "[encoded data removed]"
     },
     "metadata": {},
     "output_type": "display_data"
    }
   ],
   "execution_count": 621
  },
  {
   "metadata": {
    "ExecuteTime": {
     "end_time": "2024-11-05T05:58:49.776805Z",
     "start_time": "2024-11-05T05:58:49.773855Z"
    }
   },
   "cell_type": "code",
   "source": [
    "from pynomo.nomographer import Nomographer\n",
    "import numpy as np\n",
    "import scipy.stats as stats\n",
    "import math\n",
    "LYMPH_params={\n",
    "'u_min':0.000001,\n",
    "'u_max':5,\n",
    "'function':lambda u1:-1.95*u1,\n",
    "'title':r'LYMPH',\n",
    "'title_y_shift':0.7,\n",
    "'tick_side':'left',\n",
    "'tick_levels':2,\n",
    "'tick_text_levels':2,\n",
    "}\n",
    "HbA1c_params={\n",
    "'u_min':0.000001,\n",
    "'u_max':13,\n",
    "'function':lambda u2:0.86*u2,\n",
    "'title':r'HbA1c',\n",
    "'title_y_shift':0.7,\n",
    "'tick_levels':2,\n",
    "'tick_text_levels':2,\n",
    "}\n",
    "total_score_1_params={\n",
    "'tag':'exitance',\n",
    "'u_min':0.000001,\n",
    "'u_max':10,\n",
    "'function':lambda u3:-math.log10(u3),\n",
    "'scale_type':'log',\n",
    "'title':r'log scale total score',\n",
    "'title_y_shift':0.7,\n",
    "'tick_side':'right',\n",
    "'tick_levels':2,\n",
    "'tick_text_levels':2,\n",
    "}\n",
    "block_11_params={\n",
    "'block_type':'type_1',\n",
    "'width':10.0,\n",
    "'height':10.0,\n",
    "'f1_params':total_score_1_params,\n",
    "'f2_params':HbA1c_params,\n",
    "'f3_params':LYMPH_params,\n",
    "}"
   ],
   "id": "f65fda45bed1e60a",
   "outputs": [],
   "execution_count": 622
  },
  {
   "metadata": {
    "ExecuteTime": {
     "end_time": "2024-11-05T05:58:49.792129Z",
     "start_time": "2024-11-05T05:58:49.789299Z"
    }
   },
   "cell_type": "code",
   "source": [
    "total_score_2_params={\n",
    "'tag':'exitance',\n",
    "'u_min':0.000001,\n",
    "'u_max':10,\n",
    "'function':lambda u3:-math.log10(u3),\n",
    "'scale_type':'log',\n",
    "'title':r'',\n",
    "'title_y_shift':0.7,\n",
    "'tick_side':'left',\n",
    "'tick_levels':2,\n",
    "'tick_text_levels':2,\n",
    "}\n",
    "outcome_params={\n",
    "'u_min':0.1,\n",
    "'u_max':1,\n",
    "'function':lambda u4:math.log(math.log((u4 / 0.032),math.e),10),\n",
    "'title':r'outcome',\n",
    "'title_y_shift':0.7,\n",
    "'tick_side':'right',\n",
    "'tick_levels':2,\n",
    "'tick_text_levels':2,\n",
    "} \n",
    "int_params={\n",
    "'u_min':0,\n",
    "'u_max':0,\n",
    "'function':lambda u:u,\n",
    "'title':r'$N$',\n",
    "'title_y_shift':0.4,\n",
    "'text_format':r\"$3.0f$\",\n",
    "'tick_levels':2,\n",
    "'tick_text_levels':1,\n",
    "'scale_type':'manual point',\n",
    "'manual_axis_data': {0:'connect me',\n",
    "},\n",
    "}\n",
    "block_12_params={\n",
    "'block_type':'type_1',\n",
    "'width':10.0,\n",
    "'height':10.0,\n",
    "'f3_params':total_score_2_params,\n",
    "'f2_params':outcome_params,\n",
    "'f1_params':int_params\n",
    "}"
   ],
   "id": "d7dc37811935ca0e",
   "outputs": [],
   "execution_count": 623
  },
  {
   "metadata": {
    "ExecuteTime": {
     "end_time": "2024-11-05T05:58:50.767018Z",
     "start_time": "2024-11-05T05:58:49.804083Z"
    }
   },
   "cell_type": "code",
   "source": [
    "main_params={\n",
    "'filename':'CompoundType1-Final.pdf',\n",
    "'paper_height':20.0,\n",
    "'paper_width':20.0,\n",
    "'block_params':[block_11_params,block_12_params],\n",
    "'transformations':[('rotate',0.01),('scale paper',)],\n",
    "'title_x':8.5,\n",
    "'title_y':-1,\n",
    "'title_box_width':25.0,\n",
    "'title_str':r'Nomogram',\n",
    "'width':15.0,\n",
    "}\n",
    "Nomographer(main_params)"
   ],
   "id": "3b8c48980022485d",
   "outputs": [
    {
     "data": {
      "text/plain": [
       "<pynomo.nomographer.Nomographer at 0x17449be10>"
      ]
     },
     "execution_count": 624,
     "metadata": {},
     "output_type": "execute_result"
    }
   ],
   "execution_count": 624
  }
 ],
 "metadata": {
  "kernelspec": {
   "display_name": "Python 3",
   "language": "python",
   "name": "python3"
  },
  "language_info": {
   "codemirror_mode": {
    "name": "ipython",
    "version": 2
   },
   "file_extension": ".py",
   "mimetype": "text/x-python",
   "name": "python",
   "nbconvert_exporter": "python",
   "pygments_lexer": "ipython2",
   "version": "2.7.6"
  }
 },
 "nbformat": 4,
 "nbformat_minor": 5
}
