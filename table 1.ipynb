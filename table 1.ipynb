{
 "cells": [
  {
   "cell_type": "code",
   "id": "b498544704518a99",
   "metadata": {
    "ExecuteTime": {
     "end_time": "2024-12-27T00:22:11.504580Z",
     "start_time": "2024-12-27T00:22:10.458987Z"
    }
   },
   "source": [
    "from operator import index\n",
    "from statistics import median\n",
    "\n",
    "import pandas as pd\n",
    "from anaconda_navigator.static.images import QTCONSOLE_ICON_1024_PATH\n",
    "from sklearn.impute import KNNImputer\n",
    "from scipy import stats\n",
    "import numpy as np\n",
    "Xian_cohort = pd.read_csv('/Users/gengzhi/Desktop/Xian_cohort.csv')\n",
    "nonXian_cohort = pd.read_csv('/Users/gengzhi/Desktop/nonXian_cohort.csv')\n",
    "Xian_cohort = pd.concat([Xian_cohort, nonXian_cohort])\n",
    "imputer = KNNImputer(n_neighbors=2)\n",
    "# only 69th column have missing value\n",
    "Xian_cohort['CRP'] = imputer.fit_transform(Xian_cohort)[:, 69]\n",
    "adata = Xian_cohort[Xian_cohort['surgical_classify'] == 1]\n",
    "# drop the columns that are not needed,include '生存时间‘，’death(死亡)'\n",
    "adata = adata.drop(['survival_time', 'death','surgical_classify'], axis=1)"
   ],
   "outputs": [],
   "execution_count": 1
  },
  {
   "metadata": {},
   "cell_type": "markdown",
   "source": [
    "# change surgical_classify 3 to 1,2 to 0\n",
    "adata['surgical_classify'] = adata['surgical_classify'].replace(3, 1)\n",
    "adata['surgical_classify'] = adata['surgical_classify'].replace(2, 0)"
   ],
   "id": "950a9326811598df"
  },
  {
   "metadata": {
    "ExecuteTime": {
     "end_time": "2024-12-27T00:22:11.541057Z",
     "start_time": "2024-12-27T00:22:11.529371Z"
    }
   },
   "cell_type": "code",
   "source": "",
   "id": "21493c33f2ff311f",
   "outputs": [],
   "execution_count": null
  },
  {
   "metadata": {
    "ExecuteTime": {
     "end_time": "2024-12-27T00:22:11.642448Z",
     "start_time": "2024-12-27T00:22:11.632025Z"
    }
   },
   "cell_type": "code",
   "source": [
    "# perform log transformation on some columns,including NEUT,SII,EO,BASO,TT,FDP,D_D,AST,ALT,AST_ALT,GGT_Y,CK,TG,HCY,HbA1c,CRP,GLU\n",
    "X = adata\n",
    "X['NEUT_log10'] = np.log10(X['NEUT'])\n",
    "X['SII_log10'] = np.log10(X['SII'])\n",
    "X['BASO_log10'] = np.log10(X['BASO'] + 0.005)\n",
    "X['TT_log10'] = np.log10(X['TT'])\n",
    "X['FDP_log10'] = np.log10(X['FDP'])\n",
    "X['D_D_log10'] = np.log10(X['D_D'])\n",
    "X['AST_log10'] = np.log10(X['AST'])\n",
    "X['ALT_log10'] = np.log10(X['ALT'])\n",
    "X['AST_ALT_log10'] = np.log10(X['AST_ALT'])\n",
    "X['GGT_Y_log10'] = np.log10(X['GGT_Y'])\n",
    "X['CK_log10'] = np.log10(X['CK'])\n",
    "X['TG_log10'] = np.log10(X['TG'])\n",
    "X['HCY_log10'] = np.log10(X['HCY'])\n",
    "X['HbA1c_log10'] = np.log10(X['HbA1c'])\n",
    "X['GLU_log10'] = np.log10(X['GLU'])\n",
    "for i in ['NEUT', 'SII', 'BASO', 'TT', 'FDP', 'D_D', 'AST', 'ALT', 'AST_ALT', 'GGT_Y', 'CK', 'TG', 'HCY', 'HbA1c',\n",
    "          'GLU']:\n",
    "    X.drop(i, axis=1, inplace=True)\n",
    "adata = X"
   ],
   "id": "489c23f2672ac654",
   "outputs": [],
   "execution_count": 2
  },
  {
   "metadata": {
    "ExecuteTime": {
     "end_time": "2024-12-27T00:22:11.853035Z",
     "start_time": "2024-12-27T00:22:11.666921Z"
    }
   },
   "cell_type": "code",
   "source": [
    "# do the t-test to find the significant features on column 'SSUM(400domestic_4000onbroad)'\n",
    "columns = adata.columns.drop(\n",
    "    ['reappear', 'sex', 'stroke_if', 'TIA_if', 'hypertension', 'diabete', 'SSUM400'])\n",
    "t_test = {}\n",
    "Q3_event = []\n",
    "median_event = []\n",
    "Q1_event = []\n",
    "Q3_no_event = []\n",
    "median_no_event = []\n",
    "Q1_no_event = []\n",
    "# cycle through the columns to do the t-test on column 'SSUM(400domestic_4000onbroad)'\n",
    "for i in columns:\n",
    "    t_test[i] = stats.ttest_ind(adata[adata['SSUM400'] == 1][i], adata[adata['SSUM400'] == 0][i])\n",
    "    # calculate the Q3 & Q1 of the two groups\n",
    "    Q3_event.append(adata[adata['SSUM400'] == 1][i].quantile(0.75))\n",
    "    median_event.append(adata[adata['SSUM400'] == 1][i].median())\n",
    "    Q1_event.append(adata[adata['SSUM400'] == 1][i].quantile(0.25))\n",
    "    Q3_no_event.append(adata[adata['SSUM400'] == 0][i].quantile(0.75))\n",
    "    median_no_event.append(adata[adata['SSUM400'] == 0][i].median())\n",
    "    Q1_no_event.append(adata[adata['SSUM400'] == 0][i].quantile(0.25))\n",
    "    "
   ],
   "id": "58c90af0640fb4de",
   "outputs": [],
   "execution_count": 3
  },
  {
   "metadata": {
    "ExecuteTime": {
     "end_time": "2024-12-27T00:22:11.892323Z",
     "start_time": "2024-12-27T00:22:11.867719Z"
    }
   },
   "cell_type": "code",
   "source": [
    "# do chi_2 test on column 'SSUM(400domestic_4000onbroad)'\n",
    "columns2 = ['reappear', 'sex', 'stroke_if', 'TIA_if', 'hypertension', 'diabete']\n",
    "chi_2 = {}\n",
    "count_event = []\n",
    "percentage_event = []\n",
    "count_no_event = []\n",
    "percentage_no_event = []\n",
    "for i in columns2:\n",
    "    chi_2[i] = stats.chi2_contingency(pd.crosstab(adata['SSUM400'], adata[i]))\n",
    "    # calculate the '1' percentage of the two groups\n",
    "    percentage_event.append(adata[adata['SSUM400'] == 1][i].value_counts(normalize=True,sort=False))\n",
    "    count_event.append(adata[adata['SSUM400'] == 1][i].value_counts(sort=False))\n",
    "    percentage_no_event.append(adata[adata['SSUM400'] == 0][i].value_counts(normalize=True,sort=False))\n",
    "    count_no_event.append(adata[adata['SSUM400'] == 0][i].value_counts(sort=False))"
   ],
   "id": "a7dff5079b0b49e",
   "outputs": [],
   "execution_count": 4
  },
  {
   "metadata": {
    "ExecuteTime": {
     "end_time": "2024-12-27T00:22:11.911117Z",
     "start_time": "2024-12-27T00:22:11.907810Z"
    }
   },
   "cell_type": "code",
   "source": [
    "percentage_event = pd.DataFrame(percentage_event)\n",
    "count_event = pd.DataFrame(count_event)"
   ],
   "id": "1a706862af7caef0",
   "outputs": [],
   "execution_count": 5
  },
  {
   "metadata": {
    "ExecuteTime": {
     "end_time": "2024-12-27T00:22:11.930544Z",
     "start_time": "2024-12-27T00:22:11.927865Z"
    }
   },
   "cell_type": "code",
   "source": [
    "percentage_event.columns = ['0', '1']\n",
    "count_event.columns = ['0', '1']\n",
    "percentage_event.index = columns2\n",
    "count_event.index = columns2"
   ],
   "id": "465a7fe50fce7364",
   "outputs": [],
   "execution_count": 6
  },
  {
   "metadata": {
    "ExecuteTime": {
     "end_time": "2024-12-27T00:22:11.950539Z",
     "start_time": "2024-12-27T00:22:11.947664Z"
    }
   },
   "cell_type": "code",
   "source": [
    "percentage_no_event = pd.DataFrame(percentage_no_event)\n",
    "count_no_event = pd.DataFrame(count_no_event)"
   ],
   "id": "62c17ef84e95332f",
   "outputs": [],
   "execution_count": 7
  },
  {
   "metadata": {
    "collapsed": true,
    "ExecuteTime": {
     "end_time": "2024-12-27T00:22:11.968807Z",
     "start_time": "2024-12-27T00:22:11.966670Z"
    }
   },
   "cell_type": "code",
   "source": [
    "percentage_no_event.columns = ['0','1']\n",
    "count_no_event.columns = ['0','1']\n",
    "percentage_no_event.index = columns2\n",
    "count_no_event.index = columns2"
   ],
   "id": "initial_id",
   "outputs": [],
   "execution_count": 8
  },
  {
   "metadata": {
    "ExecuteTime": {
     "end_time": "2024-12-27T00:22:11.989033Z",
     "start_time": "2024-12-27T00:22:11.985830Z"
    }
   },
   "cell_type": "code",
   "source": [
    "# combine the results of t-test to a df\n",
    "t_test_df = pd.DataFrame(t_test).T\n",
    "t_test_df.columns = ['t_statistic', 'p_value']\n",
    "t_test_df['Q3_event'] = Q3_event\n",
    "t_test_df['median_event'] = median_event\n",
    "t_test_df['Q1_event'] = Q1_event\n",
    "t_test_df['Q3_no_event'] = Q3_no_event\n",
    "t_test_df['median_no_event'] = median_no_event\n",
    "t_test_df['Q1_no_event'] = Q1_no_event"
   ],
   "id": "4f5c3fb82358736c",
   "outputs": [],
   "execution_count": 9
  },
  {
   "metadata": {
    "ExecuteTime": {
     "end_time": "2024-12-27T00:22:12.011093Z",
     "start_time": "2024-12-27T00:22:12.007632Z"
    }
   },
   "cell_type": "code",
   "source": [
    "# combine the results of chi_2 test to a df\n",
    "chi_2_df = pd.DataFrame(chi_2).T\n",
    "chi_2_df.columns = ['chi_2_statistic', 'p_value','dof','expected']\n",
    "# '1' is a column name,we need the '1' column to be the percentage of the event\n",
    "chi_2_df['percentage_event_yes_or_classify3'] =  percentage_event[\"1\"]\n",
    "chi_2_df['count_event_yes_or_classify3'] = count_event[\"1\"]\n",
    "chi_2_df['percentage_event_no_or_classify2'] = percentage_event[\"0\"]\n",
    "chi_2_df['count_event_no_or_classify2'] = count_event[\"0\"]\n",
    "chi_2_df['percentage_no_event_yes_or_classify3'] = percentage_no_event[\"1\"]\n",
    "chi_2_df['count_no_event_yes_or_classify3'] = count_no_event[\"1\"]\n",
    "chi_2_df['percentage_no_event_no_or_classify2'] = percentage_no_event[\"0\"]\n",
    "chi_2_df['count_no_event_no_or_classify2'] = count_no_event[\"0\"]"
   ],
   "id": "9c59f13bae419ed",
   "outputs": [],
   "execution_count": 10
  },
  {
   "metadata": {
    "ExecuteTime": {
     "end_time": "2024-12-27T00:22:17.980369Z",
     "start_time": "2024-12-27T00:22:12.030361Z"
    }
   },
   "cell_type": "code",
   "source": [
    "# save the results to a csv file\n",
    "t_test_df.to_csv('/Users/gengzhi/Desktop/t_test.csv')\n",
    "chi_2_df.to_csv('/Users/gengzhi/Desktop/chi2_test.csv')"
   ],
   "id": "b7630bb1a333eee9",
   "outputs": [],
   "execution_count": 11
  }
 ],
 "metadata": {
  "kernelspec": {
   "display_name": "Python 3",
   "language": "python",
   "name": "python3"
  },
  "language_info": {
   "codemirror_mode": {
    "name": "ipython",
    "version": 2
   },
   "file_extension": ".py",
   "mimetype": "text/x-python",
   "name": "python",
   "nbconvert_exporter": "python",
   "pygments_lexer": "ipython2",
   "version": "2.7.6"
  }
 },
 "nbformat": 4,
 "nbformat_minor": 5
}
